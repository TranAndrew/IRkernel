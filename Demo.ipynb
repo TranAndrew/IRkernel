{
 "cells": [
  {
   "cell_type": "markdown",
   "metadata": {},
   "source": [
    "Code without visible output:"
   ]
  },
  {
   "cell_type": "code",
   "execution_count": 1,
   "metadata": {
    "collapsed": false
   },
   "outputs": [],
   "source": [
    "a <- 8"
   ]
  },
  {
   "cell_type": "code",
   "execution_count": 2,
   "metadata": {
    "collapsed": false
   },
   "outputs": [],
   "source": [
    "b <- 4:59"
   ]
  },
  {
   "cell_type": "markdown",
   "metadata": {},
   "source": [
    "With visible output:"
   ]
  },
  {
   "cell_type": "code",
   "execution_count": 3,
   "metadata": {
    "collapsed": false
   },
   "outputs": [
    {
     "data": {
      "text/html": [
       "<ol class=list-inline>\n",
       "\t<li>12</li>\n",
       "\t<li>13</li>\n",
       "\t<li>14</li>\n",
       "\t<li>15</li>\n",
       "\t<li>16</li>\n",
       "\t<li>17</li>\n",
       "\t<li>18</li>\n",
       "\t<li>19</li>\n",
       "\t<li>20</li>\n",
       "\t<li>21</li>\n",
       "\t<li>22</li>\n",
       "\t<li>23</li>\n",
       "\t<li>24</li>\n",
       "\t<li>25</li>\n",
       "\t<li>26</li>\n",
       "\t<li>27</li>\n",
       "\t<li>28</li>\n",
       "\t<li>29</li>\n",
       "\t<li>30</li>\n",
       "\t<li>31</li>\n",
       "\t<li>32</li>\n",
       "\t<li>33</li>\n",
       "\t<li>34</li>\n",
       "\t<li>35</li>\n",
       "\t<li>36</li>\n",
       "\t<li>37</li>\n",
       "\t<li>38</li>\n",
       "\t<li>39</li>\n",
       "\t<li>40</li>\n",
       "\t<li>41</li>\n",
       "\t<li>42</li>\n",
       "\t<li>43</li>\n",
       "\t<li>44</li>\n",
       "\t<li>45</li>\n",
       "\t<li>46</li>\n",
       "\t<li>47</li>\n",
       "\t<li>48</li>\n",
       "\t<li>49</li>\n",
       "\t<li>50</li>\n",
       "\t<li>51</li>\n",
       "\t<li>52</li>\n",
       "\t<li>53</li>\n",
       "\t<li>54</li>\n",
       "\t<li>55</li>\n",
       "\t<li>56</li>\n",
       "\t<li>57</li>\n",
       "\t<li>58</li>\n",
       "\t<li>59</li>\n",
       "\t<li>60</li>\n",
       "\t<li>61</li>\n",
       "\t<li>62</li>\n",
       "\t<li>63</li>\n",
       "\t<li>64</li>\n",
       "\t<li>65</li>\n",
       "\t<li>66</li>\n",
       "\t<li>67</li>\n",
       "</ol>\n"
      ],
      "text/latex": [
       "\\begin{enumerate*}\n",
       "\\item 12\n",
       "\\item 13\n",
       "\\item 14\n",
       "\\item 15\n",
       "\\item 16\n",
       "\\item 17\n",
       "\\item 18\n",
       "\\item 19\n",
       "\\item 20\n",
       "\\item 21\n",
       "\\item 22\n",
       "\\item 23\n",
       "\\item 24\n",
       "\\item 25\n",
       "\\item 26\n",
       "\\item 27\n",
       "\\item 28\n",
       "\\item 29\n",
       "\\item 30\n",
       "\\item 31\n",
       "\\item 32\n",
       "\\item 33\n",
       "\\item 34\n",
       "\\item 35\n",
       "\\item 36\n",
       "\\item 37\n",
       "\\item 38\n",
       "\\item 39\n",
       "\\item 40\n",
       "\\item 41\n",
       "\\item 42\n",
       "\\item 43\n",
       "\\item 44\n",
       "\\item 45\n",
       "\\item 46\n",
       "\\item 47\n",
       "\\item 48\n",
       "\\item 49\n",
       "\\item 50\n",
       "\\item 51\n",
       "\\item 52\n",
       "\\item 53\n",
       "\\item 54\n",
       "\\item 55\n",
       "\\item 56\n",
       "\\item 57\n",
       "\\item 58\n",
       "\\item 59\n",
       "\\item 60\n",
       "\\item 61\n",
       "\\item 62\n",
       "\\item 63\n",
       "\\item 64\n",
       "\\item 65\n",
       "\\item 66\n",
       "\\item 67\n",
       "\\end{enumerate*}\n"
      ],
      "text/markdown": [
       "1. 12\n",
       "2. 13\n",
       "3. 14\n",
       "4. 15\n",
       "5. 16\n",
       "6. 17\n",
       "7. 18\n",
       "8. 19\n",
       "9. 20\n",
       "10. 21\n",
       "11. 22\n",
       "12. 23\n",
       "13. 24\n",
       "14. 25\n",
       "15. 26\n",
       "16. 27\n",
       "17. 28\n",
       "18. 29\n",
       "19. 30\n",
       "20. 31\n",
       "21. 32\n",
       "22. 33\n",
       "23. 34\n",
       "24. 35\n",
       "25. 36\n",
       "26. 37\n",
       "27. 38\n",
       "28. 39\n",
       "29. 40\n",
       "30. 41\n",
       "31. 42\n",
       "32. 43\n",
       "33. 44\n",
       "34. 45\n",
       "35. 46\n",
       "36. 47\n",
       "37. 48\n",
       "38. 49\n",
       "39. 50\n",
       "40. 51\n",
       "41. 52\n",
       "42. 53\n",
       "43. 54\n",
       "44. 55\n",
       "45. 56\n",
       "46. 57\n",
       "47. 58\n",
       "48. 59\n",
       "49. 60\n",
       "50. 61\n",
       "51. 62\n",
       "52. 63\n",
       "53. 64\n",
       "54. 65\n",
       "55. 66\n",
       "56. 67\n",
       "\n",
       "\n"
      ],
      "text/plain": [
       " [1] 12 13 14 15 16 17 18 19 20 21 22 23 24 25 26 27 28 29 30 31 32 33 34 35 36\n",
       "[26] 37 38 39 40 41 42 43 44 45 46 47 48 49 50 51 52 53 54 55 56 57 58 59 60 61\n",
       "[51] 62 63 64 65 66 67"
      ]
     },
     "execution_count": 3,
     "metadata": {},
     "output_type": "execute_result"
    }
   ],
   "source": [
    "a + b"
   ]
  },
  {
   "cell_type": "markdown",
   "metadata": {},
   "source": [
    "Printing is captured and sent to the frontend:"
   ]
  },
  {
   "cell_type": "code",
   "execution_count": 4,
   "metadata": {
    "collapsed": false
   },
   "outputs": [
    {
     "name": "stdout",
     "output_type": "stream",
     "text": [
      "[1] \"Hello world! Love, R in Jupyter.\"\n"
     ]
    }
   ],
   "source": [
    "print('Hello world! Love, R in Jupyter.')"
   ]
  },
  {
   "cell_type": "markdown",
   "metadata": {},
   "source": [
    "So are errors:"
   ]
  },
  {
   "cell_type": "code",
   "execution_count": 1,
   "metadata": {
    "collapsed": true
   },
   "outputs": [],
   "source": [
    "f2 <- function() stop('deep error')\n",
    "throw <- function() f2()"
   ]
  },
  {
   "cell_type": "code",
   "execution_count": 2,
   "metadata": {
    "collapsed": false
   },
   "outputs": [
    {
     "data": {
      "text/html": [
       "'this line is run / displayed'"
      ],
      "text/latex": [
       "'this line is run / displayed'"
      ],
      "text/markdown": [
       "'this line is run / displayed'"
      ],
      "text/plain": [
       "[1] \"this line is run / displayed\""
      ]
     },
     "execution_count": 2,
     "metadata": {},
     "output_type": "execute_result"
    },
    {
     "ename": "ERROR",
     "evalue": "Error in f2(): deep error\n",
     "output_type": "error",
     "traceback": [
      "Error in f2(): deep error\nTraceback:\n",
      "1. throw()",
      "2. f2()   # at line 2 of above function",
      "3. stop(\"deep error\")   # at line 1 of above function"
     ]
    }
   ],
   "source": [
    "'this line is run / displayed'\n",
    "throw()\n",
    "'this line is not run / displayed'"
   ]
  },
  {
   "cell_type": "markdown",
   "metadata": {},
   "source": [
    "Plotting works too:"
   ]
  },
  {
   "cell_type": "code",
   "execution_count": 7,
   "metadata": {
    "collapsed": false
   },
   "outputs": [
    {
     "data": {
      "image/png": "[encoded data removed]",
      "image/svg+xml": [
       "<?xml version=\"1.0\" encoding=\"UTF-8\"?>\n",
       "<svg xmlns=\"http://www.w3.org/2000/svg\" xmlns:xlink=\"http://www.w3.org/1999/xlink\" width=\"504pt\" height=\"504pt\" viewBox=\"0 0 504 504\" version=\"1.1\">\n",
       "<defs>\n",
       "<g>\n",
       "<symbol overflow=\"visible\" id=\"glyph0-0\">\n",
       "<path style=\"stroke:none;\" d=\"M 1.203125 -8.25 L 7.796875 -8.25 L 7.796875 0 L 1.203125 0 Z M 1.640625 -7.8125 L 1.640625 -0.453125 L 7.34375 -0.453125 L 7.34375 -7.8125 Z M 1.640625 -7.8125 \"/>\n",
       "</symbol>\n",
       "<symbol overflow=\"visible\" id=\"glyph0-1\">\n",
       "<path style=\"stroke:none;\" d=\"M 6.203125 -4.125 C 6.203125 -2.75 5.957031 -1.695312 5.46875 -0.96875 C 4.988281 -0.238281 4.273438 0.125 3.328125 0.125 C 2.378906 0.125 1.664062 -0.234375 1.1875 -0.953125 C 0.707031 -1.679688 0.46875 -2.738281 0.46875 -4.125 C 0.46875 -5.550781 0.695312 -6.613281 1.15625 -7.3125 C 1.625 -8.019531 2.359375 -8.375 3.359375 -8.375 C 4.328125 -8.375 5.039062 -8.015625 5.5 -7.296875 C 5.96875 -6.585938 6.203125 -5.53125 6.203125 -4.125 Z M 5.140625 -4.125 C 5.140625 -5.320312 5 -6.1875 4.71875 -6.71875 C 4.445312 -7.257812 3.992188 -7.53125 3.359375 -7.53125 C 2.710938 -7.53125 2.242188 -7.265625 1.953125 -6.734375 C 1.671875 -6.203125 1.53125 -5.332031 1.53125 -4.125 C 1.53125 -2.957031 1.671875 -2.101562 1.953125 -1.5625 C 2.242188 -1.019531 2.703125 -0.75 3.328125 -0.75 C 3.953125 -0.75 4.410156 -1.023438 4.703125 -1.578125 C 4.992188 -2.128906 5.140625 -2.976562 5.140625 -4.125 Z M 5.140625 -4.125 \"/>\n",
       "</symbol>\n",
       "<symbol overflow=\"visible\" id=\"glyph0-2\">\n",
       "<path style=\"stroke:none;\" d=\"M 0.921875 0 L 0.921875 -0.890625 L 3.015625 -0.890625 L 3.015625 -7.25 L 1.15625 -5.921875 L 1.15625 -6.921875 L 3.109375 -8.25 L 4.078125 -8.25 L 4.078125 -0.890625 L 6.09375 -0.890625 L 6.09375 0 Z M 0.921875 0 \"/>\n",
       "</symbol>\n",
       "<symbol overflow=\"visible\" id=\"glyph0-3\">\n",
       "<path style=\"stroke:none;\" d=\"M 0.609375 0 L 0.609375 -0.75 C 0.804688 -1.207031 1.046875 -1.609375 1.328125 -1.953125 C 1.617188 -2.304688 1.921875 -2.625 2.234375 -2.90625 C 2.554688 -3.1875 2.867188 -3.445312 3.171875 -3.6875 C 3.484375 -3.9375 3.765625 -4.179688 4.015625 -4.421875 C 4.265625 -4.660156 4.46875 -4.910156 4.625 -5.171875 C 4.78125 -5.441406 4.859375 -5.742188 4.859375 -6.078125 C 4.859375 -6.535156 4.722656 -6.890625 4.453125 -7.140625 C 4.191406 -7.390625 3.828125 -7.515625 3.359375 -7.515625 C 2.898438 -7.515625 2.523438 -7.390625 2.234375 -7.140625 C 1.953125 -6.898438 1.785156 -6.5625 1.734375 -6.125 L 0.65625 -6.21875 C 0.726562 -6.875 1.003906 -7.394531 1.484375 -7.78125 C 1.972656 -8.175781 2.597656 -8.375 3.359375 -8.375 C 4.179688 -8.375 4.816406 -8.175781 5.265625 -7.78125 C 5.710938 -7.394531 5.9375 -6.84375 5.9375 -6.125 C 5.9375 -5.800781 5.863281 -5.476562 5.71875 -5.15625 C 5.570312 -4.84375 5.351562 -4.523438 5.0625 -4.203125 C 4.78125 -3.890625 4.226562 -3.40625 3.40625 -2.75 C 2.957031 -2.375 2.597656 -2.039062 2.328125 -1.75 C 2.066406 -1.457031 1.878906 -1.171875 1.765625 -0.890625 L 6.078125 -0.890625 L 6.078125 0 Z M 0.609375 0 \"/>\n",
       "</symbol>\n",
       "<symbol overflow=\"visible\" id=\"glyph0-4\">\n",
       "<path style=\"stroke:none;\" d=\"M 6.140625 -2.28125 C 6.140625 -1.519531 5.894531 -0.925781 5.40625 -0.5 C 4.925781 -0.0820312 4.238281 0.125 3.34375 0.125 C 2.507812 0.125 1.84375 -0.0625 1.34375 -0.4375 C 0.84375 -0.820312 0.546875 -1.382812 0.453125 -2.125 L 1.546875 -2.21875 C 1.691406 -1.238281 2.289062 -0.75 3.34375 -0.75 C 3.875 -0.75 4.289062 -0.878906 4.59375 -1.140625 C 4.894531 -1.410156 5.046875 -1.800781 5.046875 -2.3125 C 5.046875 -2.757812 4.875 -3.109375 4.53125 -3.359375 C 4.1875 -3.617188 3.6875 -3.75 3.03125 -3.75 L 2.4375 -3.75 L 2.4375 -4.65625 L 3.015625 -4.65625 C 3.585938 -4.65625 4.03125 -4.78125 4.34375 -5.03125 C 4.664062 -5.289062 4.828125 -5.640625 4.828125 -6.078125 C 4.828125 -6.523438 4.695312 -6.875 4.4375 -7.125 C 4.1875 -7.382812 3.800781 -7.515625 3.28125 -7.515625 C 2.820312 -7.515625 2.445312 -7.394531 2.15625 -7.15625 C 1.875 -6.914062 1.707031 -6.578125 1.65625 -6.140625 L 0.59375 -6.234375 C 0.675781 -6.910156 0.957031 -7.4375 1.4375 -7.8125 C 1.914062 -8.1875 2.535156 -8.375 3.296875 -8.375 C 4.128906 -8.375 4.773438 -8.179688 5.234375 -7.796875 C 5.691406 -7.410156 5.921875 -6.875 5.921875 -6.1875 C 5.921875 -5.664062 5.769531 -5.238281 5.46875 -4.90625 C 5.175781 -4.570312 4.75 -4.347656 4.1875 -4.234375 L 4.1875 -4.21875 C 4.800781 -4.144531 5.28125 -3.9375 5.625 -3.59375 C 5.96875 -3.25 6.140625 -2.8125 6.140625 -2.28125 Z M 6.140625 -2.28125 \"/>\n",
       "</symbol>\n",
       "<symbol overflow=\"visible\" id=\"glyph0-5\">\n",
       "<path style=\"stroke:none;\" d=\"M 5.15625 -1.875 L 5.15625 0 L 4.171875 0 L 4.171875 -1.875 L 0.28125 -1.875 L 0.28125 -2.6875 L 4.0625 -8.25 L 5.15625 -8.25 L 5.15625 -2.703125 L 6.328125 -2.703125 L 6.328125 -1.875 Z M 4.171875 -7.0625 C 4.160156 -7.039062 4.101562 -6.9375 4 -6.75 C 3.894531 -6.570312 3.820312 -6.445312 3.78125 -6.375 L 1.65625 -3.25 L 1.34375 -2.8125 L 1.25 -2.703125 L 4.171875 -2.703125 Z M 4.171875 -7.0625 \"/>\n",
       "</symbol>\n",
       "<symbol overflow=\"visible\" id=\"glyph0-6\">\n",
       "<path style=\"stroke:none;\" d=\"M 6.171875 -2.6875 C 6.171875 -1.820312 5.910156 -1.132812 5.390625 -0.625 C 4.878906 -0.125 4.160156 0.125 3.234375 0.125 C 2.472656 0.125 1.851562 -0.0390625 1.375 -0.375 C 0.90625 -0.71875 0.609375 -1.207031 0.484375 -1.84375 L 1.546875 -1.96875 C 1.765625 -1.15625 2.335938 -0.75 3.265625 -0.75 C 3.828125 -0.75 4.269531 -0.914062 4.59375 -1.25 C 4.914062 -1.59375 5.078125 -2.066406 5.078125 -2.671875 C 5.078125 -3.191406 4.914062 -3.609375 4.59375 -3.921875 C 4.269531 -4.242188 3.832031 -4.40625 3.28125 -4.40625 C 3 -4.40625 2.734375 -4.359375 2.484375 -4.265625 C 2.242188 -4.179688 2 -4.03125 1.75 -3.8125 L 0.71875 -3.8125 L 1 -8.25 L 5.6875 -8.25 L 5.6875 -7.359375 L 1.953125 -7.359375 L 1.796875 -4.734375 C 2.253906 -5.085938 2.820312 -5.265625 3.5 -5.265625 C 4.3125 -5.265625 4.957031 -5.023438 5.4375 -4.546875 C 5.925781 -4.078125 6.171875 -3.457031 6.171875 -2.6875 Z M 6.171875 -2.6875 \"/>\n",
       "</symbol>\n",
       "<symbol overflow=\"visible\" id=\"glyph0-7\">\n",
       "<path style=\"stroke:none;\" d=\"M 6.140625 -2.703125 C 6.140625 -1.828125 5.90625 -1.132812 5.4375 -0.625 C 4.96875 -0.125 4.316406 0.125 3.484375 0.125 C 2.554688 0.125 1.84375 -0.21875 1.34375 -0.90625 C 0.851562 -1.601562 0.609375 -2.613281 0.609375 -3.9375 C 0.609375 -5.363281 0.863281 -6.457031 1.375 -7.21875 C 1.882812 -7.988281 2.613281 -8.375 3.5625 -8.375 C 4.8125 -8.375 5.597656 -7.816406 5.921875 -6.703125 L 4.90625 -6.515625 C 4.695312 -7.191406 4.242188 -7.53125 3.546875 -7.53125 C 2.953125 -7.53125 2.488281 -7.25 2.15625 -6.6875 C 1.820312 -6.125 1.65625 -5.3125 1.65625 -4.25 C 1.851562 -4.601562 2.125 -4.875 2.46875 -5.0625 C 2.8125 -5.25 3.207031 -5.34375 3.65625 -5.34375 C 4.425781 -5.34375 5.03125 -5.101562 5.46875 -4.625 C 5.914062 -4.144531 6.140625 -3.503906 6.140625 -2.703125 Z M 5.078125 -2.65625 C 5.078125 -3.25 4.929688 -3.707031 4.640625 -4.03125 C 4.347656 -4.363281 3.9375 -4.53125 3.40625 -4.53125 C 2.914062 -4.53125 2.519531 -4.382812 2.21875 -4.09375 C 1.914062 -3.800781 1.765625 -3.40625 1.765625 -2.90625 C 1.765625 -2.269531 1.921875 -1.75 2.234375 -1.34375 C 2.546875 -0.9375 2.953125 -0.734375 3.453125 -0.734375 C 3.953125 -0.734375 4.347656 -0.90625 4.640625 -1.25 C 4.929688 -1.59375 5.078125 -2.0625 5.078125 -2.65625 Z M 5.078125 -2.65625 \"/>\n",
       "</symbol>\n",
       "<symbol overflow=\"visible\" id=\"glyph0-8\">\n",
       "<path style=\"stroke:none;\" d=\"M 4.6875 0 L 2.984375 -2.609375 L 1.265625 0 L 0.140625 0 L 2.390625 -3.265625 L 0.234375 -6.34375 L 1.40625 -6.34375 L 2.984375 -3.875 L 4.5625 -6.34375 L 5.734375 -6.34375 L 3.59375 -3.265625 L 5.875 0 Z M 4.6875 0 \"/>\n",
       "</symbol>\n",
       "<symbol overflow=\"visible\" id=\"glyph1-0\">\n",
       "<path style=\"stroke:none;\" d=\"M -8.25 -1.203125 L -8.25 -7.796875 L 0 -7.796875 L 0 -1.203125 Z M -7.8125 -1.640625 L -0.453125 -1.640625 L -0.453125 -7.34375 L -7.8125 -7.34375 Z M -7.8125 -1.640625 \"/>\n",
       "</symbol>\n",
       "<symbol overflow=\"visible\" id=\"glyph1-1\">\n",
       "<path style=\"stroke:none;\" d=\"M -2.71875 -0.53125 L -3.65625 -0.53125 L -3.65625 -3.46875 L -2.71875 -3.46875 Z M -2.71875 -0.53125 \"/>\n",
       "</symbol>\n",
       "<symbol overflow=\"visible\" id=\"glyph1-2\">\n",
       "<path style=\"stroke:none;\" d=\"M 0 -0.921875 L -0.890625 -0.921875 L -0.890625 -3.015625 L -7.25 -3.015625 L -5.921875 -1.15625 L -6.921875 -1.15625 L -8.25 -3.109375 L -8.25 -4.078125 L -0.890625 -4.078125 L -0.890625 -6.09375 L 0 -6.09375 Z M 0 -0.921875 \"/>\n",
       "</symbol>\n",
       "<symbol overflow=\"visible\" id=\"glyph1-3\">\n",
       "<path style=\"stroke:none;\" d=\"M 0 -1.09375 L -1.28125 -1.09375 L -1.28125 -2.234375 L 0 -2.234375 Z M 0 -1.09375 \"/>\n",
       "</symbol>\n",
       "<symbol overflow=\"visible\" id=\"glyph1-4\">\n",
       "<path style=\"stroke:none;\" d=\"M -4.125 -6.203125 C -2.75 -6.203125 -1.695312 -5.957031 -0.96875 -5.46875 C -0.238281 -4.988281 0.125 -4.273438 0.125 -3.328125 C 0.125 -2.378906 -0.234375 -1.664062 -0.953125 -1.1875 C -1.679688 -0.707031 -2.738281 -0.46875 -4.125 -0.46875 C -5.550781 -0.46875 -6.613281 -0.695312 -7.3125 -1.15625 C -8.019531 -1.625 -8.375 -2.359375 -8.375 -3.359375 C -8.375 -4.328125 -8.015625 -5.039062 -7.296875 -5.5 C -6.585938 -5.96875 -5.53125 -6.203125 -4.125 -6.203125 Z M -4.125 -5.140625 C -5.320312 -5.140625 -6.1875 -5 -6.71875 -4.71875 C -7.257812 -4.445312 -7.53125 -3.992188 -7.53125 -3.359375 C -7.53125 -2.710938 -7.265625 -2.242188 -6.734375 -1.953125 C -6.203125 -1.671875 -5.332031 -1.53125 -4.125 -1.53125 C -2.957031 -1.53125 -2.101562 -1.671875 -1.5625 -1.953125 C -1.019531 -2.242188 -0.75 -2.703125 -0.75 -3.328125 C -0.75 -3.953125 -1.023438 -4.410156 -1.578125 -4.703125 C -2.128906 -4.992188 -2.976562 -5.140625 -4.125 -5.140625 Z M -4.125 -5.140625 \"/>\n",
       "</symbol>\n",
       "<symbol overflow=\"visible\" id=\"glyph1-5\">\n",
       "<path style=\"stroke:none;\" d=\"M -2.6875 -6.171875 C -1.820312 -6.171875 -1.132812 -5.910156 -0.625 -5.390625 C -0.125 -4.878906 0.125 -4.160156 0.125 -3.234375 C 0.125 -2.472656 -0.0390625 -1.851562 -0.375 -1.375 C -0.71875 -0.90625 -1.207031 -0.609375 -1.84375 -0.484375 L -1.96875 -1.546875 C -1.15625 -1.765625 -0.75 -2.335938 -0.75 -3.265625 C -0.75 -3.828125 -0.914062 -4.269531 -1.25 -4.59375 C -1.59375 -4.914062 -2.066406 -5.078125 -2.671875 -5.078125 C -3.191406 -5.078125 -3.609375 -4.914062 -3.921875 -4.59375 C -4.242188 -4.269531 -4.40625 -3.832031 -4.40625 -3.28125 C -4.40625 -3 -4.359375 -2.734375 -4.265625 -2.484375 C -4.179688 -2.242188 -4.03125 -2 -3.8125 -1.75 L -3.8125 -0.71875 L -8.25 -1 L -8.25 -5.6875 L -7.359375 -5.6875 L -7.359375 -1.953125 L -4.734375 -1.796875 C -5.085938 -2.253906 -5.265625 -2.820312 -5.265625 -3.5 C -5.265625 -4.3125 -5.023438 -4.957031 -4.546875 -5.4375 C -4.078125 -5.925781 -3.457031 -6.171875 -2.6875 -6.171875 Z M -2.6875 -6.171875 \"/>\n",
       "</symbol>\n",
       "<symbol overflow=\"visible\" id=\"glyph1-6\">\n",
       "<path style=\"stroke:none;\" d=\"M -1.75 -5.5625 C -1.15625 -5.5625 -0.691406 -5.335938 -0.359375 -4.890625 C -0.0351562 -4.441406 0.125 -3.8125 0.125 -3 C 0.125 -2.207031 -0.00390625 -1.597656 -0.265625 -1.171875 C -0.523438 -0.742188 -0.929688 -0.460938 -1.484375 -0.328125 L -1.671875 -1.265625 C -1.328125 -1.359375 -1.078125 -1.546875 -0.921875 -1.828125 C -0.765625 -2.109375 -0.6875 -2.5 -0.6875 -3 C -0.6875 -3.53125 -0.765625 -3.921875 -0.921875 -4.171875 C -1.085938 -4.421875 -1.335938 -4.546875 -1.671875 -4.546875 C -1.921875 -4.546875 -2.125 -4.457031 -2.28125 -4.28125 C -2.4375 -4.113281 -2.566406 -3.835938 -2.671875 -3.453125 L -2.859375 -2.703125 C -3.015625 -2.085938 -3.164062 -1.648438 -3.3125 -1.390625 C -3.46875 -1.140625 -3.65625 -0.941406 -3.875 -0.796875 C -4.09375 -0.660156 -4.359375 -0.59375 -4.671875 -0.59375 C -5.242188 -0.59375 -5.679688 -0.796875 -5.984375 -1.203125 C -6.285156 -1.617188 -6.4375 -2.21875 -6.4375 -3 C -6.4375 -3.707031 -6.3125 -4.265625 -6.0625 -4.671875 C -5.820312 -5.085938 -5.429688 -5.347656 -4.890625 -5.453125 L -4.765625 -4.5 C -5.046875 -4.445312 -5.257812 -4.289062 -5.40625 -4.03125 C -5.5625 -3.78125 -5.640625 -3.4375 -5.640625 -3 C -5.640625 -2.53125 -5.566406 -2.179688 -5.421875 -1.953125 C -5.273438 -1.722656 -5.054688 -1.609375 -4.765625 -1.609375 C -4.585938 -1.609375 -4.441406 -1.65625 -4.328125 -1.75 C -4.210938 -1.84375 -4.113281 -1.976562 -4.03125 -2.15625 C -3.945312 -2.34375 -3.832031 -2.734375 -3.6875 -3.328125 C -3.539062 -3.890625 -3.410156 -4.289062 -3.296875 -4.53125 C -3.179688 -4.78125 -3.050781 -4.972656 -2.90625 -5.109375 C -2.757812 -5.253906 -2.585938 -5.363281 -2.390625 -5.4375 C -2.203125 -5.519531 -1.988281 -5.5625 -1.75 -5.5625 Z M -1.75 -5.5625 \"/>\n",
       "</symbol>\n",
       "<symbol overflow=\"visible\" id=\"glyph1-7\">\n",
       "<path style=\"stroke:none;\" d=\"M -7.6875 -0.796875 L -8.703125 -0.796875 L -8.703125 -1.859375 L -7.6875 -1.859375 Z M 0 -0.796875 L -6.34375 -0.796875 L -6.34375 -1.859375 L 0 -1.859375 Z M 0 -0.796875 \"/>\n",
       "</symbol>\n",
       "<symbol overflow=\"visible\" id=\"glyph1-8\">\n",
       "<path style=\"stroke:none;\" d=\"M 0 -4.828125 L -4.015625 -4.828125 C -4.429688 -4.828125 -4.753906 -4.785156 -4.984375 -4.703125 C -5.222656 -4.628906 -5.390625 -4.5 -5.484375 -4.3125 C -5.585938 -4.132812 -5.640625 -3.875 -5.640625 -3.53125 C -5.640625 -3.019531 -5.460938 -2.617188 -5.109375 -2.328125 C -4.765625 -2.035156 -4.285156 -1.890625 -3.671875 -1.890625 L 0 -1.890625 L 0 -0.828125 L -4.984375 -0.828125 C -5.722656 -0.828125 -6.175781 -0.816406 -6.34375 -0.796875 L -6.34375 -1.796875 C -6.320312 -1.796875 -6.265625 -1.796875 -6.171875 -1.796875 C -6.085938 -1.804688 -5.988281 -1.8125 -5.875 -1.8125 C -5.769531 -1.820312 -5.5625 -1.832031 -5.25 -1.84375 L -5.25 -1.859375 C -5.6875 -2.097656 -5.992188 -2.375 -6.171875 -2.6875 C -6.359375 -3.007812 -6.453125 -3.410156 -6.453125 -3.890625 C -6.453125 -4.578125 -6.28125 -5.082031 -5.9375 -5.40625 C -5.59375 -5.726562 -5.019531 -5.890625 -4.21875 -5.890625 L 0 -5.890625 Z M 0 -4.828125 \"/>\n",
       "</symbol>\n",
       "<symbol overflow=\"visible\" id=\"glyph1-9\">\n",
       "<path style=\"stroke:none;\" d=\"M -3.125 -0.75 C -4.25 -0.75 -5.257812 -0.925781 -6.15625 -1.28125 C -7.050781 -1.632812 -7.898438 -2.175781 -8.703125 -2.90625 L -8.703125 -3.921875 C -7.890625 -3.191406 -7.023438 -2.65625 -6.109375 -2.3125 C -5.191406 -1.976562 -4.191406 -1.8125 -3.109375 -1.8125 C -2.023438 -1.8125 -1.023438 -1.976562 -0.109375 -2.3125 C 0.796875 -2.644531 1.660156 -3.179688 2.484375 -3.921875 L 2.484375 -2.90625 C 1.691406 -2.164062 0.847656 -1.617188 -0.046875 -1.265625 C -0.953125 -0.921875 -1.96875 -0.75 -3.09375 -0.75 Z M -3.125 -0.75 \"/>\n",
       "</symbol>\n",
       "<symbol overflow=\"visible\" id=\"glyph1-10\">\n",
       "<path style=\"stroke:none;\" d=\"M 0 -4.6875 L -2.609375 -2.984375 L 0 -1.265625 L 0 -0.140625 L -3.265625 -2.390625 L -6.34375 -0.234375 L -6.34375 -1.40625 L -3.875 -2.984375 L -6.34375 -4.5625 L -6.34375 -5.734375 L -3.265625 -3.59375 L 0 -5.875 Z M 0 -4.6875 \"/>\n",
       "</symbol>\n",
       "<symbol overflow=\"visible\" id=\"glyph1-11\">\n",
       "<path style=\"stroke:none;\" d=\"M -3.09375 -3.25 C -1.96875 -3.25 -0.953125 -3.070312 -0.046875 -2.71875 C 0.847656 -2.363281 1.691406 -1.820312 2.484375 -1.09375 L 2.484375 -0.078125 C 1.660156 -0.804688 0.796875 -1.335938 -0.109375 -1.671875 C -1.015625 -2.015625 -2.015625 -2.1875 -3.109375 -2.1875 C -4.191406 -2.1875 -5.1875 -2.015625 -6.09375 -1.671875 C -7.007812 -1.335938 -7.878906 -0.804688 -8.703125 -0.078125 L -8.703125 -1.09375 C -7.898438 -1.832031 -7.046875 -2.375 -6.140625 -2.71875 C -5.242188 -3.070312 -4.238281 -3.25 -3.125 -3.25 Z M -3.09375 -3.25 \"/>\n",
       "</symbol>\n",
       "</g>\n",
       "</defs>\n",
       "<g id=\"surface35\">\n",
       "<rect x=\"0\" y=\"0\" width=\"504\" height=\"504\" style=\"fill:rgb(100%,100%,100%);fill-opacity:1;stroke:none;\"/>\n",
       "<path style=\"fill:none;stroke-width:0.75;stroke-linecap:round;stroke-linejoin:round;stroke:rgb(0%,0%,0%);stroke-opacity:1;stroke-miterlimit:10;\" d=\"M 77.101562 244.800781 C 77.101562 248.398438 71.699219 248.398438 71.699219 244.800781 C 71.699219 241.199219 77.101562 241.199219 77.101562 244.800781 \"/>\n",
       "<path style=\"fill:none;stroke-width:0.75;stroke-linecap:round;stroke-linejoin:round;stroke:rgb(0%,0%,0%);stroke-opacity:1;stroke-miterlimit:10;\" d=\"M 84.9375 222.792969 C 84.9375 226.394531 79.535156 226.394531 79.535156 222.792969 C 79.535156 219.195312 84.9375 219.195312 84.9375 222.792969 \"/>\n",
       "<path style=\"fill:none;stroke-width:0.75;stroke-linecap:round;stroke-linejoin:round;stroke:rgb(0%,0%,0%);stroke-opacity:1;stroke-miterlimit:10;\" d=\"M 92.773438 201.148438 C 92.773438 204.75 87.375 204.75 87.375 201.148438 C 87.375 197.550781 92.773438 197.550781 92.773438 201.148438 \"/>\n",
       "<path style=\"fill:none;stroke-width:0.75;stroke-linecap:round;stroke-linejoin:round;stroke:rgb(0%,0%,0%);stroke-opacity:1;stroke-miterlimit:10;\" d=\"M 100.609375 180.222656 C 100.609375 183.820312 95.210938 183.820312 95.210938 180.222656 C 95.210938 176.621094 100.609375 176.621094 100.609375 180.222656 \"/>\n",
       "<path style=\"fill:none;stroke-width:0.75;stroke-linecap:round;stroke-linejoin:round;stroke:rgb(0%,0%,0%);stroke-opacity:1;stroke-miterlimit:10;\" d=\"M 108.445312 160.351562 C 108.445312 163.953125 103.046875 163.953125 103.046875 160.351562 C 103.046875 156.753906 108.445312 156.753906 108.445312 160.351562 \"/>\n",
       "<path style=\"fill:none;stroke-width:0.75;stroke-linecap:round;stroke-linejoin:round;stroke:rgb(0%,0%,0%);stroke-opacity:1;stroke-miterlimit:10;\" d=\"M 116.285156 141.871094 C 116.285156 145.472656 110.882812 145.472656 110.882812 141.871094 C 110.882812 138.273438 116.285156 138.273438 116.285156 141.871094 \"/>\n",
       "<path style=\"fill:none;stroke-width:0.75;stroke-linecap:round;stroke-linejoin:round;stroke:rgb(0%,0%,0%);stroke-opacity:1;stroke-miterlimit:10;\" d=\"M 124.121094 125.082031 C 124.121094 128.679688 118.71875 128.679688 118.71875 125.082031 C 118.71875 121.480469 124.121094 121.480469 124.121094 125.082031 \"/>\n",
       "<path style=\"fill:none;stroke-width:0.75;stroke-linecap:round;stroke-linejoin:round;stroke:rgb(0%,0%,0%);stroke-opacity:1;stroke-miterlimit:10;\" d=\"M 131.957031 110.253906 C 131.957031 113.855469 126.558594 113.855469 126.558594 110.253906 C 126.558594 106.65625 131.957031 106.65625 131.957031 110.253906 \"/>\n",
       "<path style=\"fill:none;stroke-width:0.75;stroke-linecap:round;stroke-linejoin:round;stroke:rgb(0%,0%,0%);stroke-opacity:1;stroke-miterlimit:10;\" d=\"M 139.792969 97.640625 C 139.792969 101.238281 134.394531 101.238281 134.394531 97.640625 C 134.394531 94.039062 139.792969 94.039062 139.792969 97.640625 \"/>\n",
       "<path style=\"fill:none;stroke-width:0.75;stroke-linecap:round;stroke-linejoin:round;stroke:rgb(0%,0%,0%);stroke-opacity:1;stroke-miterlimit:10;\" d=\"M 147.628906 87.441406 C 147.628906 91.039062 142.230469 91.039062 142.230469 87.441406 C 142.230469 83.839844 147.628906 83.839844 147.628906 87.441406 \"/>\n",
       "<path style=\"fill:none;stroke-width:0.75;stroke-linecap:round;stroke-linejoin:round;stroke:rgb(0%,0%,0%);stroke-opacity:1;stroke-miterlimit:10;\" d=\"M 155.46875 79.824219 C 155.46875 83.425781 150.066406 83.425781 150.066406 79.824219 C 150.066406 76.222656 155.46875 76.222656 155.46875 79.824219 \"/>\n",
       "<path style=\"fill:none;stroke-width:0.75;stroke-linecap:round;stroke-linejoin:round;stroke:rgb(0%,0%,0%);stroke-opacity:1;stroke-miterlimit:10;\" d=\"M 163.304688 74.917969 C 163.304688 78.515625 157.902344 78.515625 157.902344 74.917969 C 157.902344 71.316406 163.304688 71.316406 163.304688 74.917969 \"/>\n",
       "<path style=\"fill:none;stroke-width:0.75;stroke-linecap:round;stroke-linejoin:round;stroke:rgb(0%,0%,0%);stroke-opacity:1;stroke-miterlimit:10;\" d=\"M 171.140625 72.800781 C 171.140625 76.398438 165.742188 76.398438 165.742188 72.800781 C 165.742188 69.199219 171.140625 69.199219 171.140625 72.800781 \"/>\n",
       "<path style=\"fill:none;stroke-width:0.75;stroke-linecap:round;stroke-linejoin:round;stroke:rgb(0%,0%,0%);stroke-opacity:1;stroke-miterlimit:10;\" d=\"M 178.976562 73.507812 C 178.976562 77.105469 173.578125 77.105469 173.578125 73.507812 C 173.578125 69.90625 178.976562 69.90625 178.976562 73.507812 \"/>\n",
       "<path style=\"fill:none;stroke-width:0.75;stroke-linecap:round;stroke-linejoin:round;stroke:rgb(0%,0%,0%);stroke-opacity:1;stroke-miterlimit:10;\" d=\"M 186.8125 77.027344 C 186.8125 80.625 181.414062 80.625 181.414062 77.027344 C 181.414062 73.425781 186.8125 73.425781 186.8125 77.027344 \"/>\n",
       "<path style=\"fill:none;stroke-width:0.75;stroke-linecap:round;stroke-linejoin:round;stroke:rgb(0%,0%,0%);stroke-opacity:1;stroke-miterlimit:10;\" d=\"M 194.652344 83.300781 C 194.652344 86.902344 189.25 86.902344 189.25 83.300781 C 189.25 79.699219 194.652344 79.699219 194.652344 83.300781 \"/>\n",
       "<path style=\"fill:none;stroke-width:0.75;stroke-linecap:round;stroke-linejoin:round;stroke:rgb(0%,0%,0%);stroke-opacity:1;stroke-miterlimit:10;\" d=\"M 202.488281 92.226562 C 202.488281 95.828125 197.085938 95.828125 197.085938 92.226562 C 197.085938 88.625 202.488281 88.625 202.488281 92.226562 \"/>\n",
       "<path style=\"fill:none;stroke-width:0.75;stroke-linecap:round;stroke-linejoin:round;stroke:rgb(0%,0%,0%);stroke-opacity:1;stroke-miterlimit:10;\" d=\"M 210.324219 103.65625 C 210.324219 107.257812 204.925781 107.257812 204.925781 103.65625 C 204.925781 100.058594 210.324219 100.058594 210.324219 103.65625 \"/>\n",
       "<path style=\"fill:none;stroke-width:0.75;stroke-linecap:round;stroke-linejoin:round;stroke:rgb(0%,0%,0%);stroke-opacity:1;stroke-miterlimit:10;\" d=\"M 218.160156 117.40625 C 218.160156 121.007812 212.761719 121.007812 212.761719 117.40625 C 212.761719 113.808594 218.160156 113.808594 218.160156 117.40625 \"/>\n",
       "<path style=\"fill:none;stroke-width:0.75;stroke-linecap:round;stroke-linejoin:round;stroke:rgb(0%,0%,0%);stroke-opacity:1;stroke-miterlimit:10;\" d=\"M 225.996094 133.246094 C 225.996094 136.847656 220.597656 136.847656 220.597656 133.246094 C 220.597656 129.648438 225.996094 129.648438 225.996094 133.246094 \"/>\n",
       "<path style=\"fill:none;stroke-width:0.75;stroke-linecap:round;stroke-linejoin:round;stroke:rgb(0%,0%,0%);stroke-opacity:1;stroke-miterlimit:10;\" d=\"M 233.835938 150.917969 C 233.835938 154.519531 228.433594 154.519531 228.433594 150.917969 C 228.433594 147.320312 233.835938 147.320312 233.835938 150.917969 \"/>\n",
       "<path style=\"fill:none;stroke-width:0.75;stroke-linecap:round;stroke-linejoin:round;stroke:rgb(0%,0%,0%);stroke-opacity:1;stroke-miterlimit:10;\" d=\"M 241.671875 170.132812 C 241.671875 173.734375 236.269531 173.734375 236.269531 170.132812 C 236.269531 166.535156 241.671875 166.535156 241.671875 170.132812 \"/>\n",
       "<path style=\"fill:none;stroke-width:0.75;stroke-linecap:round;stroke-linejoin:round;stroke:rgb(0%,0%,0%);stroke-opacity:1;stroke-miterlimit:10;\" d=\"M 249.507812 190.574219 C 249.507812 194.171875 244.109375 194.171875 244.109375 190.574219 C 244.109375 186.972656 249.507812 186.972656 249.507812 190.574219 \"/>\n",
       "<path style=\"fill:none;stroke-width:0.75;stroke-linecap:round;stroke-linejoin:round;stroke:rgb(0%,0%,0%);stroke-opacity:1;stroke-miterlimit:10;\" d=\"M 257.34375 211.902344 C 257.34375 215.503906 251.945312 215.503906 251.945312 211.902344 C 251.945312 208.304688 257.34375 208.304688 257.34375 211.902344 \"/>\n",
       "<path style=\"fill:none;stroke-width:0.75;stroke-linecap:round;stroke-linejoin:round;stroke:rgb(0%,0%,0%);stroke-opacity:1;stroke-miterlimit:10;\" d=\"M 265.179688 233.773438 C 265.179688 237.375 259.78125 237.375 259.78125 233.773438 C 259.78125 230.175781 265.179688 230.175781 265.179688 233.773438 \"/>\n",
       "<path style=\"fill:none;stroke-width:0.75;stroke-linecap:round;stroke-linejoin:round;stroke:rgb(0%,0%,0%);stroke-opacity:1;stroke-miterlimit:10;\" d=\"M 273.019531 255.824219 C 273.019531 259.425781 267.617188 259.425781 267.617188 255.824219 C 267.617188 252.226562 273.019531 252.226562 273.019531 255.824219 \"/>\n",
       "<path style=\"fill:none;stroke-width:0.75;stroke-linecap:round;stroke-linejoin:round;stroke:rgb(0%,0%,0%);stroke-opacity:1;stroke-miterlimit:10;\" d=\"M 280.855469 277.695312 C 280.855469 281.296875 275.457031 281.296875 275.457031 277.695312 C 275.457031 274.097656 280.855469 274.097656 280.855469 277.695312 \"/>\n",
       "<path style=\"fill:none;stroke-width:0.75;stroke-linecap:round;stroke-linejoin:round;stroke:rgb(0%,0%,0%);stroke-opacity:1;stroke-miterlimit:10;\" d=\"M 288.691406 299.027344 C 288.691406 302.625 283.292969 302.625 283.292969 299.027344 C 283.292969 295.425781 288.691406 295.425781 288.691406 299.027344 \"/>\n",
       "<path style=\"fill:none;stroke-width:0.75;stroke-linecap:round;stroke-linejoin:round;stroke:rgb(0%,0%,0%);stroke-opacity:1;stroke-miterlimit:10;\" d=\"M 296.527344 319.464844 C 296.527344 323.066406 291.128906 323.066406 291.128906 319.464844 C 291.128906 315.867188 296.527344 315.867188 296.527344 319.464844 \"/>\n",
       "<path style=\"fill:none;stroke-width:0.75;stroke-linecap:round;stroke-linejoin:round;stroke:rgb(0%,0%,0%);stroke-opacity:1;stroke-miterlimit:10;\" d=\"M 304.367188 338.679688 C 304.367188 342.28125 298.964844 342.28125 298.964844 338.679688 C 298.964844 335.082031 304.367188 335.082031 304.367188 338.679688 \"/>\n",
       "<path style=\"fill:none;stroke-width:0.75;stroke-linecap:round;stroke-linejoin:round;stroke:rgb(0%,0%,0%);stroke-opacity:1;stroke-miterlimit:10;\" d=\"M 312.203125 356.351562 C 312.203125 359.953125 306.800781 359.953125 306.800781 356.351562 C 306.800781 352.753906 312.203125 352.753906 312.203125 356.351562 \"/>\n",
       "<path style=\"fill:none;stroke-width:0.75;stroke-linecap:round;stroke-linejoin:round;stroke:rgb(0%,0%,0%);stroke-opacity:1;stroke-miterlimit:10;\" d=\"M 320.039062 372.191406 C 320.039062 375.792969 314.640625 375.792969 314.640625 372.191406 C 314.640625 368.59375 320.039062 368.59375 320.039062 372.191406 \"/>\n",
       "<path style=\"fill:none;stroke-width:0.75;stroke-linecap:round;stroke-linejoin:round;stroke:rgb(0%,0%,0%);stroke-opacity:1;stroke-miterlimit:10;\" d=\"M 327.875 385.941406 C 327.875 389.542969 322.476562 389.542969 322.476562 385.941406 C 322.476562 382.34375 327.875 382.34375 327.875 385.941406 \"/>\n",
       "<path style=\"fill:none;stroke-width:0.75;stroke-linecap:round;stroke-linejoin:round;stroke:rgb(0%,0%,0%);stroke-opacity:1;stroke-miterlimit:10;\" d=\"M 335.710938 397.375 C 335.710938 400.972656 330.3125 400.972656 330.3125 397.375 C 330.3125 393.773438 335.710938 393.773438 335.710938 397.375 \"/>\n",
       "<path style=\"fill:none;stroke-width:0.75;stroke-linecap:round;stroke-linejoin:round;stroke:rgb(0%,0%,0%);stroke-opacity:1;stroke-miterlimit:10;\" d=\"M 343.550781 406.300781 C 343.550781 409.898438 338.148438 409.898438 338.148438 406.300781 C 338.148438 402.699219 343.550781 402.699219 343.550781 406.300781 \"/>\n",
       "<path style=\"fill:none;stroke-width:0.75;stroke-linecap:round;stroke-linejoin:round;stroke:rgb(0%,0%,0%);stroke-opacity:1;stroke-miterlimit:10;\" d=\"M 351.386719 412.574219 C 351.386719 416.171875 345.984375 416.171875 345.984375 412.574219 C 345.984375 408.972656 351.386719 408.972656 351.386719 412.574219 \"/>\n",
       "<path style=\"fill:none;stroke-width:0.75;stroke-linecap:round;stroke-linejoin:round;stroke:rgb(0%,0%,0%);stroke-opacity:1;stroke-miterlimit:10;\" d=\"M 359.222656 416.09375 C 359.222656 419.691406 353.824219 419.691406 353.824219 416.09375 C 353.824219 412.492188 359.222656 412.492188 359.222656 416.09375 \"/>\n",
       "<path style=\"fill:none;stroke-width:0.75;stroke-linecap:round;stroke-linejoin:round;stroke:rgb(0%,0%,0%);stroke-opacity:1;stroke-miterlimit:10;\" d=\"M 367.058594 416.800781 C 367.058594 420.398438 361.660156 420.398438 361.660156 416.800781 C 361.660156 413.199219 367.058594 413.199219 367.058594 416.800781 \"/>\n",
       "<path style=\"fill:none;stroke-width:0.75;stroke-linecap:round;stroke-linejoin:round;stroke:rgb(0%,0%,0%);stroke-opacity:1;stroke-miterlimit:10;\" d=\"M 374.894531 414.683594 C 374.894531 418.28125 369.496094 418.28125 369.496094 414.683594 C 369.496094 411.082031 374.894531 411.082031 374.894531 414.683594 \"/>\n",
       "<path style=\"fill:none;stroke-width:0.75;stroke-linecap:round;stroke-linejoin:round;stroke:rgb(0%,0%,0%);stroke-opacity:1;stroke-miterlimit:10;\" d=\"M 382.734375 409.777344 C 382.734375 413.375 377.332031 413.375 377.332031 409.777344 C 377.332031 406.175781 382.734375 406.175781 382.734375 409.777344 \"/>\n",
       "<path style=\"fill:none;stroke-width:0.75;stroke-linecap:round;stroke-linejoin:round;stroke:rgb(0%,0%,0%);stroke-opacity:1;stroke-miterlimit:10;\" d=\"M 390.570312 402.160156 C 390.570312 405.761719 385.167969 405.761719 385.167969 402.160156 C 385.167969 398.558594 390.570312 398.558594 390.570312 402.160156 \"/>\n",
       "<path style=\"fill:none;stroke-width:0.75;stroke-linecap:round;stroke-linejoin:round;stroke:rgb(0%,0%,0%);stroke-opacity:1;stroke-miterlimit:10;\" d=\"M 398.40625 391.960938 C 398.40625 395.558594 393.007812 395.558594 393.007812 391.960938 C 393.007812 388.359375 398.40625 388.359375 398.40625 391.960938 \"/>\n",
       "<path style=\"fill:none;stroke-width:0.75;stroke-linecap:round;stroke-linejoin:round;stroke:rgb(0%,0%,0%);stroke-opacity:1;stroke-miterlimit:10;\" d=\"M 406.242188 379.34375 C 406.242188 382.945312 400.84375 382.945312 400.84375 379.34375 C 400.84375 375.746094 406.242188 375.746094 406.242188 379.34375 \"/>\n",
       "<path style=\"fill:none;stroke-width:0.75;stroke-linecap:round;stroke-linejoin:round;stroke:rgb(0%,0%,0%);stroke-opacity:1;stroke-miterlimit:10;\" d=\"M 414.078125 364.519531 C 414.078125 368.117188 408.679688 368.117188 408.679688 364.519531 C 408.679688 360.917969 414.078125 360.917969 414.078125 364.519531 \"/>\n",
       "<path style=\"fill:none;stroke-width:0.75;stroke-linecap:round;stroke-linejoin:round;stroke:rgb(0%,0%,0%);stroke-opacity:1;stroke-miterlimit:10;\" d=\"M 421.917969 347.726562 C 421.917969 351.328125 416.515625 351.328125 416.515625 347.726562 C 416.515625 344.128906 421.917969 344.128906 421.917969 347.726562 \"/>\n",
       "<path style=\"fill:none;stroke-width:0.75;stroke-linecap:round;stroke-linejoin:round;stroke:rgb(0%,0%,0%);stroke-opacity:1;stroke-miterlimit:10;\" d=\"M 429.753906 329.246094 C 429.753906 332.847656 424.351562 332.847656 424.351562 329.246094 C 424.351562 325.648438 429.753906 325.648438 429.753906 329.246094 \"/>\n",
       "<path style=\"fill:none;stroke-width:0.75;stroke-linecap:round;stroke-linejoin:round;stroke:rgb(0%,0%,0%);stroke-opacity:1;stroke-miterlimit:10;\" d=\"M 437.589844 309.378906 C 437.589844 312.980469 432.191406 312.980469 432.191406 309.378906 C 432.191406 305.777344 437.589844 305.777344 437.589844 309.378906 \"/>\n",
       "<path style=\"fill:none;stroke-width:0.75;stroke-linecap:round;stroke-linejoin:round;stroke:rgb(0%,0%,0%);stroke-opacity:1;stroke-miterlimit:10;\" d=\"M 445.425781 288.449219 C 445.425781 292.050781 440.027344 292.050781 440.027344 288.449219 C 440.027344 284.851562 445.425781 284.851562 445.425781 288.449219 \"/>\n",
       "<path style=\"fill:none;stroke-width:0.75;stroke-linecap:round;stroke-linejoin:round;stroke:rgb(0%,0%,0%);stroke-opacity:1;stroke-miterlimit:10;\" d=\"M 453.261719 266.804688 C 453.261719 270.40625 447.863281 270.40625 447.863281 266.804688 C 447.863281 263.207031 453.261719 263.207031 453.261719 266.804688 \"/>\n",
       "<path style=\"fill:none;stroke-width:0.75;stroke-linecap:round;stroke-linejoin:round;stroke:rgb(0%,0%,0%);stroke-opacity:1;stroke-miterlimit:10;\" d=\"M 461.101562 244.800781 C 461.101562 248.398438 455.699219 248.398438 455.699219 244.800781 C 455.699219 241.199219 461.101562 241.199219 461.101562 244.800781 \"/>\n",
       "<path style=\"fill:none;stroke-width:0.75;stroke-linecap:round;stroke-linejoin:round;stroke:rgb(0%,0%,0%);stroke-opacity:1;stroke-miterlimit:10;\" d=\"M 74.398438 430.558594 L 441.09375 430.558594 \"/>\n",
       "<path style=\"fill:none;stroke-width:0.75;stroke-linecap:round;stroke-linejoin:round;stroke:rgb(0%,0%,0%);stroke-opacity:1;stroke-miterlimit:10;\" d=\"M 74.398438 430.558594 L 74.398438 437.761719 \"/>\n",
       "<path style=\"fill:none;stroke-width:0.75;stroke-linecap:round;stroke-linejoin:round;stroke:rgb(0%,0%,0%);stroke-opacity:1;stroke-miterlimit:10;\" d=\"M 135.515625 430.558594 L 135.515625 437.761719 \"/>\n",
       "<path style=\"fill:none;stroke-width:0.75;stroke-linecap:round;stroke-linejoin:round;stroke:rgb(0%,0%,0%);stroke-opacity:1;stroke-miterlimit:10;\" d=\"M 196.632812 430.558594 L 196.632812 437.761719 \"/>\n",
       "<path style=\"fill:none;stroke-width:0.75;stroke-linecap:round;stroke-linejoin:round;stroke:rgb(0%,0%,0%);stroke-opacity:1;stroke-miterlimit:10;\" d=\"M 257.746094 430.558594 L 257.746094 437.761719 \"/>\n",
       "<path style=\"fill:none;stroke-width:0.75;stroke-linecap:round;stroke-linejoin:round;stroke:rgb(0%,0%,0%);stroke-opacity:1;stroke-miterlimit:10;\" d=\"M 318.863281 430.558594 L 318.863281 437.761719 \"/>\n",
       "<path style=\"fill:none;stroke-width:0.75;stroke-linecap:round;stroke-linejoin:round;stroke:rgb(0%,0%,0%);stroke-opacity:1;stroke-miterlimit:10;\" d=\"M 379.976562 430.558594 L 379.976562 437.761719 \"/>\n",
       "<path style=\"fill:none;stroke-width:0.75;stroke-linecap:round;stroke-linejoin:round;stroke:rgb(0%,0%,0%);stroke-opacity:1;stroke-miterlimit:10;\" d=\"M 441.09375 430.558594 L 441.09375 437.761719 \"/>\n",
       "<g style=\"fill:rgb(0%,0%,0%);fill-opacity:1;\">\n",
       "  <use xlink:href=\"#glyph0-1\" x=\"70.898438\" y=\"456.34375\"/>\n",
       "</g>\n",
       "<g style=\"fill:rgb(0%,0%,0%);fill-opacity:1;\">\n",
       "  <use xlink:href=\"#glyph0-2\" x=\"132.015625\" y=\"456.34375\"/>\n",
       "</g>\n",
       "<g style=\"fill:rgb(0%,0%,0%);fill-opacity:1;\">\n",
       "  <use xlink:href=\"#glyph0-3\" x=\"193.132812\" y=\"456.34375\"/>\n",
       "</g>\n",
       "<g style=\"fill:rgb(0%,0%,0%);fill-opacity:1;\">\n",
       "  <use xlink:href=\"#glyph0-4\" x=\"254.246094\" y=\"456.34375\"/>\n",
       "</g>\n",
       "<g style=\"fill:rgb(0%,0%,0%);fill-opacity:1;\">\n",
       "  <use xlink:href=\"#glyph0-5\" x=\"315.363281\" y=\"456.34375\"/>\n",
       "</g>\n",
       "<g style=\"fill:rgb(0%,0%,0%);fill-opacity:1;\">\n",
       "  <use xlink:href=\"#glyph0-6\" x=\"376.476562\" y=\"456.34375\"/>\n",
       "</g>\n",
       "<g style=\"fill:rgb(0%,0%,0%);fill-opacity:1;\">\n",
       "  <use xlink:href=\"#glyph0-7\" x=\"437.59375\" y=\"456.34375\"/>\n",
       "</g>\n",
       "<path style=\"fill:none;stroke-width:0.75;stroke-linecap:round;stroke-linejoin:round;stroke:rgb(0%,0%,0%);stroke-opacity:1;stroke-miterlimit:10;\" d=\"M 59.039062 416.886719 L 59.039062 72.710938 \"/>\n",
       "<path style=\"fill:none;stroke-width:0.75;stroke-linecap:round;stroke-linejoin:round;stroke:rgb(0%,0%,0%);stroke-opacity:1;stroke-miterlimit:10;\" d=\"M 59.039062 416.886719 L 51.839844 416.886719 \"/>\n",
       "<path style=\"fill:none;stroke-width:0.75;stroke-linecap:round;stroke-linejoin:round;stroke:rgb(0%,0%,0%);stroke-opacity:1;stroke-miterlimit:10;\" d=\"M 59.039062 330.84375 L 51.839844 330.84375 \"/>\n",
       "<path style=\"fill:none;stroke-width:0.75;stroke-linecap:round;stroke-linejoin:round;stroke:rgb(0%,0%,0%);stroke-opacity:1;stroke-miterlimit:10;\" d=\"M 59.039062 244.800781 L 51.839844 244.800781 \"/>\n",
       "<path style=\"fill:none;stroke-width:0.75;stroke-linecap:round;stroke-linejoin:round;stroke:rgb(0%,0%,0%);stroke-opacity:1;stroke-miterlimit:10;\" d=\"M 59.039062 158.753906 L 51.839844 158.753906 \"/>\n",
       "<path style=\"fill:none;stroke-width:0.75;stroke-linecap:round;stroke-linejoin:round;stroke:rgb(0%,0%,0%);stroke-opacity:1;stroke-miterlimit:10;\" d=\"M 59.039062 72.710938 L 51.839844 72.710938 \"/>\n",
       "<g style=\"fill:rgb(0%,0%,0%);fill-opacity:1;\">\n",
       "  <use xlink:href=\"#glyph1-1\" x=\"41.625\" y=\"427.386719\"/>\n",
       "  <use xlink:href=\"#glyph1-2\" x=\"41.625\" y=\"423.390625\"/>\n",
       "  <use xlink:href=\"#glyph1-3\" x=\"41.625\" y=\"416.716797\"/>\n",
       "  <use xlink:href=\"#glyph1-4\" x=\"41.625\" y=\"413.382812\"/>\n",
       "</g>\n",
       "<g style=\"fill:rgb(0%,0%,0%);fill-opacity:1;\">\n",
       "  <use xlink:href=\"#glyph1-1\" x=\"41.625\" y=\"341.34375\"/>\n",
       "  <use xlink:href=\"#glyph1-4\" x=\"41.625\" y=\"337.347656\"/>\n",
       "  <use xlink:href=\"#glyph1-3\" x=\"41.625\" y=\"330.673828\"/>\n",
       "  <use xlink:href=\"#glyph1-5\" x=\"41.625\" y=\"327.339844\"/>\n",
       "</g>\n",
       "<g style=\"fill:rgb(0%,0%,0%);fill-opacity:1;\">\n",
       "  <use xlink:href=\"#glyph1-4\" x=\"41.625\" y=\"253.300781\"/>\n",
       "  <use xlink:href=\"#glyph1-3\" x=\"41.625\" y=\"246.626953\"/>\n",
       "  <use xlink:href=\"#glyph1-4\" x=\"41.625\" y=\"243.292969\"/>\n",
       "</g>\n",
       "<g style=\"fill:rgb(0%,0%,0%);fill-opacity:1;\">\n",
       "  <use xlink:href=\"#glyph1-4\" x=\"41.625\" y=\"167.253906\"/>\n",
       "  <use xlink:href=\"#glyph1-3\" x=\"41.625\" y=\"160.580078\"/>\n",
       "  <use xlink:href=\"#glyph1-5\" x=\"41.625\" y=\"157.246094\"/>\n",
       "</g>\n",
       "<g style=\"fill:rgb(0%,0%,0%);fill-opacity:1;\">\n",
       "  <use xlink:href=\"#glyph1-2\" x=\"41.625\" y=\"81.210938\"/>\n",
       "  <use xlink:href=\"#glyph1-3\" x=\"41.625\" y=\"74.537109\"/>\n",
       "  <use xlink:href=\"#glyph1-4\" x=\"41.625\" y=\"71.203125\"/>\n",
       "</g>\n",
       "<path style=\"fill:none;stroke-width:0.75;stroke-linecap:round;stroke-linejoin:round;stroke:rgb(0%,0%,0%);stroke-opacity:1;stroke-miterlimit:10;\" d=\"M 59.039062 430.558594 L 473.761719 430.558594 L 473.761719 59.039062 L 59.039062 59.039062 L 59.039062 430.558594 \"/>\n",
       "<g style=\"fill:rgb(0%,0%,0%);fill-opacity:1;\">\n",
       "  <use xlink:href=\"#glyph0-8\" x=\"263.398438\" y=\"485.144531\"/>\n",
       "</g>\n",
       "<g style=\"fill:rgb(0%,0%,0%);fill-opacity:1;\">\n",
       "  <use xlink:href=\"#glyph1-6\" x=\"12.824219\" y=\"259.800781\"/>\n",
       "  <use xlink:href=\"#glyph1-7\" x=\"12.824219\" y=\"253.800781\"/>\n",
       "  <use xlink:href=\"#glyph1-8\" x=\"12.824219\" y=\"251.134766\"/>\n",
       "  <use xlink:href=\"#glyph1-9\" x=\"12.824219\" y=\"244.460938\"/>\n",
       "  <use xlink:href=\"#glyph1-10\" x=\"12.824219\" y=\"240.464844\"/>\n",
       "  <use xlink:href=\"#glyph1-11\" x=\"12.824219\" y=\"234.464844\"/>\n",
       "</g>\n",
       "</g>\n",
       "</svg>\n"
      ],
      "text/plain": [
       "plot without title"
      ]
     },
     "metadata": {
      "image/svg+xml": {
       "isolated": true
      }
     },
     "output_type": "display_data"
    }
   ],
   "source": [
    "x <- seq(0, 2*pi, length.out=50)\n",
    "plot(x, sin(x))"
   ]
  }
 ],
 "metadata": {
  "kernelspec": {
   "display_name": "R",
   "language": "R",
   "name": "ir"
  },
  "language_info": {
   "codemirror_mode": "r",
   "file_extension": ".r",
   "mimetype": "text/x-r-source",
   "name": "R",
   "pygments_lexer": "r",
   "version": "3.2.2"
  }
 },
 "nbformat": 4,
 "nbformat_minor": 0
}
